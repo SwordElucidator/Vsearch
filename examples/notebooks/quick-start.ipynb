{
 "cells": [
  {
   "cell_type": "code",
   "execution_count": 1,
   "id": "08e481de",
   "metadata": {},
   "outputs": [],
   "source": [
    "import sys\n",
    "sys.path.append(\"../../\")"
   ]
  },
  {
   "cell_type": "code",
   "execution_count": 2,
   "id": "efd13ede",
   "metadata": {},
   "outputs": [
    {
     "name": "stdout",
     "output_type": "stream",
     "text": [
      "tensor([[91.1257, 17.6930, 13.0358, 12.4576]], device='cuda:0')\n"
     ]
    }
   ],
   "source": [
    "import torch\n",
    "from src.vdr import Retriever\n",
    "\n",
    "# Initialize the retriever\n",
    "vdr_text2text = Retriever.from_pretrained(\"vsearch/vdr-nq\")\n",
    "\n",
    "# Set up the device\n",
    "device = torch.device('cuda' if torch.cuda.is_available() else 'cpu')\n",
    "vdr_text2text = vdr_text2text.to(device)\n",
    "\n",
    "# Define a query and a list of passages\n",
    "query = \"What are the benefits of drinking green tea?\"\n",
    "passages = [\n",
    "    \"Green tea is known for its antioxidant properties, which can help protect cells from damage caused by free radicals. It also contains catechins, which have been shown to have anti-inflammatory and anti-cancer effects. Drinking green tea regularly may help improve overall health and well-being.\",\n",
    "    \"The history of coffee dates back to ancient times, with its origins in Ethiopia. Coffee is one of the most popular beverages in the world and is enjoyed by millions of people every day.\",\n",
    "    \"Yoga is a mind-body practice that combines physical postures, breathing exercises, and meditation. It has been practiced for thousands of years and is known for its many health benefits, including stress reduction and improved flexibility.\",\n",
    "    \"Eating a balanced diet that includes a variety of fruits, vegetables, whole grains, and lean proteins is essential for maintaining good health. It provides the body with the nutrients it needs to function properly and can help prevent chronic diseases.\"\n",
    "]\n",
    "\n",
    "# Embed the query and passages\n",
    "q_emb = vdr_text2text.encoder_q.embed(query)  # Shape: [1, V]\n",
    "p_emb = vdr_text2text.encoder_p.embed(passages)  # Shape: [4, V]\n",
    "\n",
    " # Query-passage Relevance\n",
    "scores = q_emb @ p_emb.t()\n",
    "print(scores)\n",
    "\n",
    "\n",
    "# tensor([[91.1257, 17.6930, 13.0358, 12.4576]], device='cuda:0')"
   ]
  },
  {
   "cell_type": "code",
   "execution_count": 3,
   "id": "7a0a1756",
   "metadata": {},
   "outputs": [
    {
     "name": "stdout",
     "output_type": "stream",
     "text": [
      "tensor([[0.3209, 0.0984]])\n"
     ]
    }
   ],
   "source": [
    "vdr_cross_modal = Retriever.from_pretrained(\"vsearch/vdr-cross-modal\") # Note: encoder_p for images, encoder_q for text.\n",
    "\n",
    "image_file = '../images/mars.png'\n",
    "texts = [\n",
    "    \"Four thousand Martian days after setting its wheels in Gale Crater on Aug. 5, 2012, NASA’s Curiosity rover remains busy conducting exciting science. The rover recently drilled its 39th sample then dropped the pulverized rock into its belly for detailed analysis.\",\n",
    "    \"ChatGPT is a chatbot developed by OpenAI and launched on November 30, 2022. Based on a large language model, it enables users to refine and steer a conversation towards a desired length, format, style, level of detail, and language.\"\n",
    "]\n",
    "image_emb = vdr_cross_modal.encoder_p.embed(image_file) # Shape: [1, V]\n",
    "text_emb = vdr_cross_modal.encoder_q.embed(texts)  # Shape: [2, V]\n",
    "\n",
    "# Image-text Relevance\n",
    "scores = image_emb @ text_emb.t()\n",
    "print(scores)\n",
    "\n",
    "\n",
    "# tensor([[0.3209, 0.0984]])"
   ]
  },
  {
   "cell_type": "code",
   "execution_count": null,
   "id": "7e94f4eb",
   "metadata": {
    "scrolled": true
   },
   "outputs": [],
   "source": [
    "# Disentangling query embedding\n",
    "disentanglement = vdr_text2text.encoder_q.dst(query, k=768, visual=True) # Generate a word cloud if `visual`=True\n",
    "print(disentanglement)\n",
    "\n",
    "#{\n",
    "#    'tea': 6.9349799156188965,\n",
    "#    'green': 5.861555576324463,\n",
    "#    'bitter': 4.233378887176514,\n",
    "#    ...\n",
    "#}"
   ]
  },
  {
   "cell_type": "code",
   "execution_count": null,
   "id": "23cc0fae",
   "metadata": {
    "scrolled": false
   },
   "outputs": [],
   "source": [
    "# Retrieval reasoning on query-passage match\n",
    "reasons = vdr_text2text.explain(q=query, p=passages[0], k=768, visual=True)\n",
    "print(reasons)\n",
    "\n",
    "\n",
    "#{\n",
    "#    'tea': 41.2425175410242,\n",
    "#    'green': 38.784010452150596,\n",
    "#    'effects': 1.1575102038585783,\n",
    "#    ...\n",
    "#}"
   ]
  },
  {
   "cell_type": "code",
   "execution_count": null,
   "id": "42c5a5c3",
   "metadata": {},
   "outputs": [],
   "source": []
  }
 ],
 "metadata": {
  "kernelspec": {
   "display_name": "Python 3 (ipykernel)",
   "language": "python",
   "name": "python3"
  },
  "language_info": {
   "codemirror_mode": {
    "name": "ipython",
    "version": 3
   },
   "file_extension": ".py",
   "mimetype": "text/x-python",
   "name": "python",
   "nbconvert_exporter": "python",
   "pygments_lexer": "ipython3",
   "version": "3.8.1"
  }
 },
 "nbformat": 4,
 "nbformat_minor": 5
}
